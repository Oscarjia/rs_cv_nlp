{
 "cells": [
  {
   "cell_type": "markdown",
   "metadata": {},
   "source": [
    "# Rule Based Language 生成实例。"
   ]
  },
  {
   "cell_type": "code",
   "execution_count": 15,
   "metadata": {},
   "outputs": [],
   "source": [
    "#实例一、西部世界里，一个”人类“的语言可以定义为：\n",
    "\n",
    "humanrulestring = \"\"\"\n",
    "human = 自己 寻找 活动\n",
    "自己 = 我 | 俺 | 我们 \n",
    "寻找 = 看看 | 找找 | 想找点\n",
    "活动 = 乐子 | 玩的\n",
    "\"\"\""
   ]
  },
  {
   "cell_type": "raw",
   "metadata": {},
   "source": [
    "算法：\n",
    "1、根据输入的rules string，生成dict\n",
    "2、递归处理rules\n",
    "3、输出根据rules的处理结果"
   ]
  },
  {
   "cell_type": "code",
   "execution_count": 100,
   "metadata": {},
   "outputs": [],
   "source": [
    "#1 根据输入的规则字符串和分割方法，生成dict\n",
    "def rulesgen(inputrulestring,stmt_split,expr_split):\n",
    "    rules=dict()\n",
    "    for rulestring in inputrulestring.strip().split('\\n'):\n",
    "        #print (rulestring)\n",
    "        #print(rulestring.strip().split(stmt_split))\n",
    "        stmt,expre=rulestring.strip().split(stmt_split)\n",
    "        # print(stmt,expre)\n",
    "        rules[stmt.strip()]=expre.strip().split(expr_split) \n",
    "    return rules"
   ]
  },
  {
   "cell_type": "code",
   "execution_count": 42,
   "metadata": {},
   "outputs": [
    {
     "data": {
      "text/plain": [
       "{'human': ['自己 寻找 活动'],\n",
       " '自己': ['我 ', ' 俺 ', ' 我们'],\n",
       " '寻找': ['看看 ', ' 找找 ', ' 想找点'],\n",
       " '活动': ['乐子 ', ' 玩的']}"
      ]
     },
     "execution_count": 42,
     "metadata": {},
     "output_type": "execute_result"
    }
   ],
   "source": [
    "#test westrules sucess\n",
    "westrules(humanrulestring,'=','|')"
   ]
  },
  {
   "cell_type": "raw",
   "metadata": {},
   "source": [
    "#2 递归处理rules"
   ]
  },
  {
   "cell_type": "code",
   "execution_count": 91,
   "metadata": {},
   "outputs": [],
   "source": [
    "#输入target string 生成语言\n",
    "import random\n",
    "def generatelanguage(rules,target):\n",
    "    #print(target+'\\n')\n",
    "    if target in rules:\n",
    "        candidates=rules[target]#第一次coding的时候少了6-7句子。少了进一步的取值。\n",
    "        candidate=random.choice(candidates)#\n",
    "        return ' '.join(generatelanguage(rules,item.strip()) for item in candidate.split())\n",
    "    else:\n",
    "        return target"
   ]
  },
  {
   "cell_type": "raw",
   "metadata": {},
   "source": [
    "#3 输出根据rules的处理结果"
   ]
  },
  {
   "cell_type": "code",
   "execution_count": 98,
   "metadata": {},
   "outputs": [
    {
     "data": {
      "text/plain": [
       "'我们 找找 玩的'"
      ]
     },
     "execution_count": 98,
     "metadata": {},
     "output_type": "execute_result"
    }
   ],
   "source": [
    "#根据输入的语言规则,生成dict。\n",
    "rules=rulesgen(humanrulestring,'=','|');\n",
    "#print(rules)\n",
    "generatelanguage(rules,'human')"
   ]
  },
  {
   "cell_type": "code",
   "execution_count": 106,
   "metadata": {},
   "outputs": [],
   "source": [
    "#实例二 、一个“接待员”的语言可以定义为\n",
    "#这个例子看起来比第一个例子复杂了许多，解决问题的时候，可以先从第一个例子开始。\n",
    "\n",
    "hostrulestring = \"\"\"\n",
    "host = 寒暄 报数 询问 业务相关 结尾 \n",
    "报数 = 我是 数字 号 ,\n",
    "数字 = 单个数字 | 数字 单个数字 \n",
    "单个数字 = 1 | 2 | 3 | 4 | 5 | 6 | 7 | 8 | 9 \n",
    "寒暄 = 称谓 打招呼 | 打招呼\n",
    "称谓 = 人称 ,\n",
    "人称 = 先生 | 女士 | 小朋友\n",
    "打招呼 = 你好 | 您好 \n",
    "询问 = 请问你要 | 您需要\n",
    "业务相关 = 玩玩 具体业务\n",
    "玩玩 = 耍一耍 | 玩一玩\n",
    "具体业务 = 喝酒 | 打牌 | 打猎 | 赌博\n",
    "结尾 = 吗？\"\"\""
   ]
  },
  {
   "cell_type": "code",
   "execution_count": 126,
   "metadata": {},
   "outputs": [
    {
     "data": {
      "text/plain": [
       "'女士 , 您好 我是 1 4 号 , 请问你要 玩一玩 赌博 吗？'"
      ]
     },
     "execution_count": 126,
     "metadata": {},
     "output_type": "execute_result"
    }
   ],
   "source": [
    "#根据输入的语言规则,生成dict。\n",
    "rules=rulesgen(hostrulestring,'=','|');\n",
    "#print(rules)\n",
    "generatelanguage(rules,'host')"
   ]
  },
  {
   "cell_type": "code",
   "execution_count": 130,
   "metadata": {},
   "outputs": [],
   "source": [
    "#实例三 根据这个例子，一次生成多个句子。\n",
    "def generatelanguageN(rules,number,target):\n",
    "    for i in range(number):\n",
    "         print(generatelanguage(rules,target))"
   ]
  },
  {
   "cell_type": "code",
   "execution_count": 132,
   "metadata": {},
   "outputs": [
    {
     "name": "stdout",
     "output_type": "stream",
     "text": [
      "女士 , 您好 我是 2 9 3 6 号 , 您需要 耍一耍 赌博 吗？\n",
      "您好 我是 9 号 , 您需要 玩一玩 打猎 吗？\n",
      "女士 , 您好 我是 9 2 号 , 请问你要 耍一耍 打牌 吗？\n",
      "小朋友 , 你好 我是 4 号 , 请问你要 耍一耍 打牌 吗？\n"
     ]
    }
   ],
   "source": [
    "#test  generatelanguageN\n",
    "rules=rulesgen(hostrulestring,'=','|');\n",
    "generatelanguageN(rules,4,'host')"
   ]
  },
  {
   "cell_type": "code",
   "execution_count": null,
   "metadata": {},
   "outputs": [],
   "source": []
  },
  {
   "cell_type": "code",
   "execution_count": null,
   "metadata": {},
   "outputs": [],
   "source": []
  }
 ],
 "metadata": {
  "kernelspec": {
   "display_name": "Python 3",
   "language": "python",
   "name": "python3"
  },
  "language_info": {
   "codemirror_mode": {
    "name": "ipython",
    "version": 3
   },
   "file_extension": ".py",
   "mimetype": "text/x-python",
   "name": "python",
   "nbconvert_exporter": "python",
   "pygments_lexer": "ipython3",
   "version": "3.7.3"
  }
 },
 "nbformat": 4,
 "nbformat_minor": 2
}
