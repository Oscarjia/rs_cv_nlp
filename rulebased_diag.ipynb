{
  "nbformat": 4,
  "nbformat_minor": 0,
  "metadata": {
    "colab": {
      "name": "Untitled2.ipynb",
      "provenance": [],
      "collapsed_sections": [],
      "authorship_tag": "ABX9TyP7LYJk8WI2lkvbYHW60ggn",
      "include_colab_link": true
    },
    "kernelspec": {
      "name": "python3",
      "display_name": "Python 3"
    }
  },
  "cells": [
    {
      "cell_type": "markdown",
      "metadata": {
        "id": "view-in-github",
        "colab_type": "text"
      },
      "source": [
        "<a href=\"https://colab.research.google.com/github/Oscarjia/rs_cv_nlp/blob/master/rulebased_diag.ipynb\" target=\"_parent\"><img src=\"https://colab.research.google.com/assets/colab-badge.svg\" alt=\"Open In Colab\"/></a>"
      ]
    },
    {
      "cell_type": "code",
      "metadata": {
        "id": "3xjhEUw_CeGA",
        "colab_type": "code",
        "colab": {}
      },
      "source": [
        "hello_to_someone='''\n",
        "say_hello=name hello\n",
        "name=John|Mike\n",
        "hello=你好|你来了啊|欢迎你啊\n",
        "'''\n",
        "import random\n",
        "def name():\n",
        "  return random.choice('John|Mike'.split('|'))\n",
        "def hello():\n",
        "  return random.choice('你好|你来了啊|欢迎你啊'.split('|'))"
      ],
      "execution_count": 72,
      "outputs": []
    },
    {
      "cell_type": "code",
      "metadata": {
        "id": "tmxx4g1XIQBh",
        "colab_type": "code",
        "colab": {
          "base_uri": "https://localhost:8080/",
          "height": 34
        },
        "outputId": "fb0457b8-edc1-4302-de41-a781389e00ae"
      },
      "source": [
        "#grammar rules\n",
        "rules=dict()\n",
        "for statment in hello_to_someone.split('\\n'):\n",
        "  if not statment:continue\n",
        "  #print(statment)\n",
        "  key,value=statment.split('=')\n",
        "  rules[key.strip()]=value.split('|')\n",
        "print(rules)"
      ],
      "execution_count": 87,
      "outputs": [
        {
          "output_type": "stream",
          "text": [
            "{'say_hello': ['name hello'], 'name': ['John', 'Mike'], 'hello': ['你好', '你来了啊', '欢迎你啊']}\n"
          ],
          "name": "stdout"
        }
      ]
    },
    {
      "cell_type": "code",
      "metadata": {
        "id": "22OSxoHyM_Z0",
        "colab_type": "code",
        "colab": {}
      },
      "source": [
        "def generatediag(rules,target):\n",
        "   if target in rules:\n",
        "      candidates=rules[target]\n",
        "      candidate=random.choice(candidates)\n",
        "      return ''.join(generatediag(rules,c.strip()) for c in candidate.split())\n",
        "   else:\n",
        "      return target"
      ],
      "execution_count": 88,
      "outputs": []
    },
    {
      "cell_type": "code",
      "metadata": {
        "id": "jmyZUcD0OBuP",
        "colab_type": "code",
        "colab": {
          "base_uri": "https://localhost:8080/",
          "height": 34
        },
        "outputId": "34e5f7a9-eb66-468b-e932-c93a448dea44"
      },
      "source": [
        "generatediag(rules,'say_hello')"
      ],
      "execution_count": 94,
      "outputs": [
        {
          "output_type": "execute_result",
          "data": {
            "text/plain": [
              "'Mike你来了啊'"
            ]
          },
          "metadata": {
            "tags": []
          },
          "execution_count": 94
        }
      ]
    },
    {
      "cell_type": "code",
      "metadata": {
        "id": "1KA84TvcIQ44",
        "colab_type": "code",
        "colab": {
          "base_uri": "https://localhost:8080/",
          "height": 34
        },
        "outputId": "1498ac43-524d-4e24-8306-d075add76df1"
      },
      "source": [
        "hello()"
      ],
      "execution_count": 4,
      "outputs": [
        {
          "output_type": "execute_result",
          "data": {
            "text/plain": [
              "'欢迎你啊'"
            ]
          },
          "metadata": {
            "tags": []
          },
          "execution_count": 4
        }
      ]
    },
    {
      "cell_type": "code",
      "metadata": {
        "id": "Jhb40eQ8IgXw",
        "colab_type": "code",
        "colab": {}
      },
      "source": [
        "def say_hello():\n",
        "  return name()+','+hello()"
      ],
      "execution_count": 8,
      "outputs": []
    },
    {
      "cell_type": "code",
      "metadata": {
        "id": "U3ku6vkKIoQo",
        "colab_type": "code",
        "colab": {
          "base_uri": "https://localhost:8080/",
          "height": 34
        },
        "outputId": "ef8b0324-8d32-4b25-fe98-74dd8ba9be89"
      },
      "source": [
        "say_hello()"
      ],
      "execution_count": 16,
      "outputs": [
        {
          "output_type": "execute_result",
          "data": {
            "text/plain": [
              "'Mike,你好'"
            ]
          },
          "metadata": {
            "tags": []
          },
          "execution_count": 16
        }
      ]
    }
  ]
}