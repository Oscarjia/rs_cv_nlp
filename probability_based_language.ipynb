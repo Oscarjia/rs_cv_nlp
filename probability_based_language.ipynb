{
 "cells": [
  {
   "cell_type": "raw",
   "metadata": {},
   "source": [
    "#基于probability的语言模型\n",
    "算法：\n",
    "1、读取训练集\n",
    "2、处理训练集，进行切词。\n",
    "3、生成2-gram模型\n",
    "4、测试模型的处理结果"
   ]
  },
  {
   "cell_type": "code",
   "execution_count": 96,
   "metadata": {},
   "outputs": [],
   "source": [
    "#1、读取训练集(保险行业问询对话集),最原始的方法读取\n",
    "def getfilestring(traintxtpath):\n",
    "    trainsets=[]\n",
    "    with open(traintxtpath,'r',encoding='utf-8') as file:\n",
    "        for line in file:\n",
    "            trainsets.append(line.split('++$++')[2].strip())\n",
    "    return ''.join(trainsets)"
   ]
  },
  {
   "cell_type": "code",
   "execution_count": 103,
   "metadata": {},
   "outputs": [],
   "source": [
    "#测试训练集\n",
    "traintxtpath='F:/ai/1/nlp/train.txt'\n",
    "df=getfilestring(traintxtpath)\n",
    "df=df.replace('？','')\n",
    "df=df.replace('吗','')"
   ]
  },
  {
   "cell_type": "code",
   "execution_count": 167,
   "metadata": {},
   "outputs": [
    {
     "data": {
      "text/plain": [
       "[<matplotlib.lines.Line2D at 0x242d12e8>]"
      ]
     },
     "execution_count": 167,
     "metadata": {},
     "output_type": "execute_result"
    },
    {
     "data": {
      "image/png": "[encoded data removed]",
      "text/plain": [
       "<Figure size 432x288 with 1 Axes>"
      ]
     },
     "metadata": {
      "needs_background": "light"
     },
     "output_type": "display_data"
    }
   ],
   "source": [
    "#分词\n",
    "from collections import Counter\n",
    "import jieba\n",
    "words_count=Counter(list(jieba.cut(df)))\n",
    "words_count.most_common()\n",
    "def getwords_count(word):\n",
    "    if word in words_count:\n",
    "        return words_count[word]\n",
    "    else:\n",
    "        return 1\n",
    "words_count_f=[f for w,f in words_count.most_common()]\n",
    "words_count_w=[w for w,f in words_count.most_common()]\n",
    "#print(words_count_f[:10])\n",
    "import matplotlib.pyplot as plot\n",
    "plot.plot(words_count_f)\n",
    "#print(seg_list)\n",
    "#Counter(df)"
   ]
  },
  {
   "cell_type": "code",
   "execution_count": 180,
   "metadata": {},
   "outputs": [
    {
     "data": {
      "text/plain": [
       "5002"
      ]
     },
     "execution_count": 180,
     "metadata": {},
     "output_type": "execute_result"
    }
   ],
   "source": [
    "getwords_count('保险')"
   ]
  },
  {
   "cell_type": "code",
   "execution_count": 154,
   "metadata": {},
   "outputs": [
    {
     "data": {
      "text/plain": [
       "['保险', '的', '人寿保险', '什么', '是', '我', '是否', '可以', '健康', '如何']"
      ]
     },
     "execution_count": 154,
     "metadata": {},
     "output_type": "execute_result"
    }
   ],
   "source": [
    "words_count_w[:10]"
   ]
  },
  {
   "cell_type": "code",
   "execution_count": 155,
   "metadata": {},
   "outputs": [],
   "source": [
    "def gettwo_gram_word(words_count_w):\n",
    "    two_gram=[]\n",
    "    for i in range(len(words_count_w)-1):\n",
    "        two_gram.append(words_count_w[i]+words_count_w[i+1])\n",
    "    return two_gram"
   ]
  },
  {
   "cell_type": "code",
   "execution_count": 156,
   "metadata": {},
   "outputs": [],
   "source": [
    "#test two_gram_word()\n",
    "two_gram_word_gen=gettwo_gram_word(words_count_w)"
   ]
  },
  {
   "cell_type": "code",
   "execution_count": 203,
   "metadata": {},
   "outputs": [
    {
     "name": "stdout",
     "output_type": "stream",
     "text": [
      "[('保险的', 1), ('的人寿保险', 1), ('人寿保险什么', 1), ('什么是', 1), ('是我', 1), ('我是否', 1), ('是否可以', 1), ('可以健康', 1), ('健康如何', 1), ('如何医疗保险', 1)]\n"
     ]
    }
   ],
   "source": [
    "two_gram_count=Counter(two_gram_word_gen)\n",
    "print(two_gram_count.most_common()[:10])\n",
    "def gettwogram_count(word):\n",
    "    print('gettwogram_count',word)\n",
    "    if word in two_gram_count:\n",
    "        return two_gram_count[word]\n",
    "    else:\n",
    "        return 0"
   ]
  },
  {
   "cell_type": "code",
   "execution_count": 212,
   "metadata": {},
   "outputs": [],
   "source": [
    "#生成2-gram模型\n",
    "def two_grm_model(test):\n",
    "    tokens=list(jieba.cut(test))\n",
    "    print(tokens)\n",
    "    probability=1\n",
    "    for i in range(len(tokens)-1):\n",
    "        print(i)\n",
    "        word=tokens[i]\n",
    "        print('word:',word)\n",
    "        next_word=tokens[i+1]\n",
    "        print('next word:',next_word)\n",
    "        print('word+next_word:'+word+next_word)\n",
    "        print('gettwo_gram_word',gettwogram_count(word+next_word))\n",
    "        print('getwords_count',getwords_count(word))\n",
    "        prob=gettwogram_count(word+next_word)/getwords_count(word)\n",
    "        probability*=prob\n",
    "    return probability"
   ]
  },
  {
   "cell_type": "code",
   "execution_count": 220,
   "metadata": {},
   "outputs": [
    {
     "name": "stdout",
     "output_type": "stream",
     "text": [
      "['汽', '等等']\n",
      "0\n",
      "word: 汽\n",
      "next word: 等等\n",
      "word+next_word:汽等等\n",
      "gettwogram_count 汽等等\n",
      "gettwo_gram_word 0\n",
      "getwords_count 1\n",
      "gettwogram_count 汽等等\n"
     ]
    },
    {
     "data": {
      "text/plain": [
       "0.0"
      ]
     },
     "execution_count": 220,
     "metadata": {},
     "output_type": "execute_result"
    }
   ],
   "source": [
    "##test two_grm_model\n",
    "two_grm_model('汽等等')"
   ]
  },
  {
   "cell_type": "code",
   "execution_count": null,
   "metadata": {},
   "outputs": [],
   "source": []
  },
  {
   "cell_type": "code",
   "execution_count": null,
   "metadata": {},
   "outputs": [],
   "source": []
  }
 ],
 "metadata": {
  "kernelspec": {
   "display_name": "Python 3",
   "language": "python",
   "name": "python3"
  },
  "language_info": {
   "codemirror_mode": {
    "name": "ipython",
    "version": 3
   },
   "file_extension": ".py",
   "mimetype": "text/x-python",
   "name": "python",
   "nbconvert_exporter": "python",
   "pygments_lexer": "ipython3",
   "version": "3.7.3"
  }
 },
 "nbformat": 4,
 "nbformat_minor": 2
}
